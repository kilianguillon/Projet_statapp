{
 "cells": [
  {
   "cell_type": "code",
   "execution_count": 32,
   "metadata": {},
   "outputs": [
    {
     "name": "stdout",
     "output_type": "stream",
     "text": [
      "[6.6010034]\n"
     ]
    }
   ],
   "source": [
    "from scipy.stats import lognorm\n",
    "\n",
    "def simule_premier_depart():\n",
    "    loc = -0.6029\n",
    "    scale = 10.4792\n",
    "    s = 0.3005  # s est l'écart-type de la distribution normale sous-jacente\n",
    "    # Génère un échantillon à partir de la loi lognormale\n",
    "    sample = lognorm(s=s, scale=np.exp(loc)).rvs(size=1) * scale\n",
    "    return sample\n",
    "\n",
    "# Test de la fonction\n",
    "print(simulate_lognormal_scipy())\n",
    "\n"
   ]
  }
 ],
 "metadata": {
  "kernelspec": {
   "display_name": "base",
   "language": "python",
   "name": "python3"
  },
  "language_info": {
   "codemirror_mode": {
    "name": "ipython",
    "version": 3
   },
   "file_extension": ".py",
   "mimetype": "text/x-python",
   "name": "python",
   "nbconvert_exporter": "python",
   "pygments_lexer": "ipython3",
   "version": "3.11.6"
  }
 },
 "nbformat": 4,
 "nbformat_minor": 2
}
