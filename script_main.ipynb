{
 "cells": [
  {
   "cell_type": "code",
   "execution_count": null,
   "id": "f624f82a-98bc-47bf-b203-a016ac6a6712",
   "metadata": {},
   "outputs": [],
   "source": [
    "import pandas as pd"
   ]
  },
  {
   "cell_type": "code",
   "execution_count": null,
   "id": "47a5a909-6514-453c-8f75-ea99dc92bd15",
   "metadata": {},
   "outputs": [],
   "source": [
    "EMP=pd.read_csv(\"Projet_statapp/data/EMP_deplacements_Charme.csv\", sep=;)\n",
    "EMP.head()"
   ]
  },
  {
   "cell_type": "code",
   "execution_count": null,
   "id": "2afaece7-680b-4c69-8815-9f4549b2fc3a",
   "metadata": {},
   "outputs": [],
   "source": [
    "1+1==2"
   ]
  }
 ],
 "metadata": {
  "kernelspec": {
   "display_name": "Python 3 (ipykernel)",
   "language": "python",
   "name": "python3"
  },
  "language_info": {
   "codemirror_mode": {
    "name": "ipython",
    "version": 3
   },
   "file_extension": ".py",
   "mimetype": "text/x-python",
   "name": "python",
   "nbconvert_exporter": "python",
   "pygments_lexer": "ipython3",
   "version": "3.10.13"
  }
 },
 "nbformat": 4,
 "nbformat_minor": 5
}
