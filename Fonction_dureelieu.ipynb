{
 "cells": [
  {
   "cell_type": "markdown",
   "id": "24f09351-1db4-4044-b619-f1f61fc8a8f1",
   "metadata": {},
   "source": [
    "# Fonction renvoyant une durée restée dans un lieu selon l'heure et le lieu"
   ]
  },
  {
   "cell_type": "code",
   "execution_count": 74,
   "id": "8835943d-d8d1-4eef-ae69-9e2ef97efc6a",
   "metadata": {},
   "outputs": [
    {
     "name": "stdout",
     "output_type": "stream",
     "text": [
      "Requirement already satisfied: openpyxl in /opt/mamba/lib/python3.11/site-packages (3.1.2)\n",
      "Requirement already satisfied: et-xmlfile in /opt/mamba/lib/python3.11/site-packages (from openpyxl) (1.1.0)\n"
     ]
    }
   ],
   "source": [
    "import pandas as pd\n",
    "import numpy as np\n",
    "import scipy.stats as stats\n",
    "import ast\n",
    "from scipy.stats import invgamma,loggamma,invgauss\n",
    "\n",
    "!pip install openpyxl"
   ]
  },
  {
   "cell_type": "code",
   "execution_count": 75,
   "id": "668fb4e6-1c10-4fc4-a7ac-2c16c4d8fae5",
   "metadata": {},
   "outputs": [],
   "source": [
    "#Lire le tableau des lois de durée restée dans un lieu:\n",
    "tableau_duree= pd.read_excel(\"data/lois_duree.xlsx\")"
   ]
  },
  {
   "cell_type": "code",
   "execution_count": 76,
   "id": "383633ae-5ac2-439d-a3fa-281923b3e7cf",
   "metadata": {},
   "outputs": [],
   "source": [
    "tableau_duree=tableau_duree.set_index(\"Unnamed: 0\").rename_axis(\"Plage horaire\")"
   ]
  },
  {
   "cell_type": "code",
   "execution_count": 77,
   "id": "74105fbc-6d23-41f2-a0ea-e5538de8670a",
   "metadata": {},
   "outputs": [],
   "source": [
    "tableau_duree=tableau_duree.map(lambda x: ast.literal_eval(x))\n"
   ]
  },
  {
   "cell_type": "code",
   "execution_count": 78,
   "id": "26ce2127-2bab-4ed0-8a66-36fcafcb4789",
   "metadata": {},
   "outputs": [
    {
     "data": {
      "text/html": [
       "<div>\n",
       "<style scoped>\n",
       "    .dataframe tbody tr th:only-of-type {\n",
       "        vertical-align: middle;\n",
       "    }\n",
       "\n",
       "    .dataframe tbody tr th {\n",
       "        vertical-align: top;\n",
       "    }\n",
       "\n",
       "    .dataframe thead th {\n",
       "        text-align: right;\n",
       "    }\n",
       "</style>\n",
       "<table border=\"1\" class=\"dataframe\">\n",
       "  <thead>\n",
       "    <tr style=\"text-align: right;\">\n",
       "      <th></th>\n",
       "      <th>Rue</th>\n",
       "      <th>Entreprise</th>\n",
       "      <th>Sans</th>\n",
       "      <th>Domicile</th>\n",
       "      <th>Parking</th>\n",
       "    </tr>\n",
       "    <tr>\n",
       "      <th>Plage horaire</th>\n",
       "      <th></th>\n",
       "      <th></th>\n",
       "      <th></th>\n",
       "      <th></th>\n",
       "      <th></th>\n",
       "    </tr>\n",
       "  </thead>\n",
       "  <tbody>\n",
       "    <tr>\n",
       "      <th>Matin</th>\n",
       "      <td>[invgauss, (4.036204719120207, -0.161617635419...</td>\n",
       "      <td>[beta, (52.595462995358545, 27.703319219454222...</td>\n",
       "      <td>[beta, (0.5117940197816365, 19.2230902247954, ...</td>\n",
       "      <td>[beta, (0.5474258078179828, 0.9000121427405545...</td>\n",
       "      <td>[invgamma, (1.2485500680449202, -0.23360330017...</td>\n",
       "    </tr>\n",
       "    <tr>\n",
       "      <th>Midi</th>\n",
       "      <td>[chi2, (1.3400808769713695, -5.127648667537803...</td>\n",
       "      <td>[invgamma, (54.707261432752674, -13.6736528297...</td>\n",
       "      <td>[beta, (0.30450496225678947, 88.52544141212059...</td>\n",
       "      <td>[beta, (0.547862902931137, 0.6163748511340661,...</td>\n",
       "      <td>[pareto, (3.474502202630147, -5.75279416070615...</td>\n",
       "    </tr>\n",
       "    <tr>\n",
       "      <th>Après-midi</th>\n",
       "      <td>[chi2, (1.3380657374339826, -2.022860775150514...</td>\n",
       "      <td>[gamma, (1.1060959455943804, -0.00407001505164...</td>\n",
       "      <td>[beta, (0.8611652542892512, 79.35796489004701,...</td>\n",
       "      <td>[beta, (1.8969335796940112, 1.1440186443623233...</td>\n",
       "      <td>[invgamma, (2.030103317853264, -0.273339157562...</td>\n",
       "    </tr>\n",
       "    <tr>\n",
       "      <th>Soir</th>\n",
       "      <td>[beta, (0.7222192851774487, 1.4655167671346607...</td>\n",
       "      <td>[beta, (0.8699981002941614, 1.3044457209426563...</td>\n",
       "      <td>[beta, (0.3021326639337568, 266.1616492102139,...</td>\n",
       "      <td>[beta, (1.9493353130904008, 1.1828119830488304...</td>\n",
       "      <td>[invgauss, (1.3223013343950307, -0.16386888664...</td>\n",
       "    </tr>\n",
       "  </tbody>\n",
       "</table>\n",
       "</div>"
      ],
      "text/plain": [
       "                                                             Rue  \\\n",
       "Plage horaire                                                      \n",
       "Matin          [invgauss, (4.036204719120207, -0.161617635419...   \n",
       "Midi           [chi2, (1.3400808769713695, -5.127648667537803...   \n",
       "Après-midi     [chi2, (1.3380657374339826, -2.022860775150514...   \n",
       "Soir           [beta, (0.7222192851774487, 1.4655167671346607...   \n",
       "\n",
       "                                                      Entreprise  \\\n",
       "Plage horaire                                                      \n",
       "Matin          [beta, (52.595462995358545, 27.703319219454222...   \n",
       "Midi           [invgamma, (54.707261432752674, -13.6736528297...   \n",
       "Après-midi     [gamma, (1.1060959455943804, -0.00407001505164...   \n",
       "Soir           [beta, (0.8699981002941614, 1.3044457209426563...   \n",
       "\n",
       "                                                            Sans  \\\n",
       "Plage horaire                                                      \n",
       "Matin          [beta, (0.5117940197816365, 19.2230902247954, ...   \n",
       "Midi           [beta, (0.30450496225678947, 88.52544141212059...   \n",
       "Après-midi     [beta, (0.8611652542892512, 79.35796489004701,...   \n",
       "Soir           [beta, (0.3021326639337568, 266.1616492102139,...   \n",
       "\n",
       "                                                        Domicile  \\\n",
       "Plage horaire                                                      \n",
       "Matin          [beta, (0.5474258078179828, 0.9000121427405545...   \n",
       "Midi           [beta, (0.547862902931137, 0.6163748511340661,...   \n",
       "Après-midi     [beta, (1.8969335796940112, 1.1440186443623233...   \n",
       "Soir           [beta, (1.9493353130904008, 1.1828119830488304...   \n",
       "\n",
       "                                                         Parking  \n",
       "Plage horaire                                                     \n",
       "Matin          [invgamma, (1.2485500680449202, -0.23360330017...  \n",
       "Midi           [pareto, (3.474502202630147, -5.75279416070615...  \n",
       "Après-midi     [invgamma, (2.030103317853264, -0.273339157562...  \n",
       "Soir           [invgauss, (1.3223013343950307, -0.16386888664...  "
      ]
     },
     "execution_count": 78,
     "metadata": {},
     "output_type": "execute_result"
    }
   ],
   "source": [
    "tableau_duree.head()"
   ]
  },
  {
   "cell_type": "code",
   "execution_count": 63,
   "id": "31cb48fd-c559-4b58-9a39-14c5897a4660",
   "metadata": {},
   "outputs": [],
   "source": []
  },
  {
   "cell_type": "code",
   "execution_count": 106,
   "id": "42805932-927a-47b2-981c-9aa1e00b438a",
   "metadata": {},
   "outputs": [],
   "source": [
    "def duree_lieu(heure_arrivee,lieu):\n",
    "    if heure_arrivee<=11:\n",
    "        plage= \"Matin\"\n",
    "    elif heure_arrivee<=14:\n",
    "        plage=\"Midi\"\n",
    "    elif heure_arrivee<=17:\n",
    "        plage= \"Après-midi\"\n",
    "    else:\n",
    "        plage= \"Soir\"\n",
    "    loi=tableau_duree.loc[plage,lieu]\n",
    "    dist=loi[0]\n",
    "    #print(dist)\n",
    "    param=list(loi[1])\n",
    "    if abs(param[-2])<10**(-2):\n",
    "        param[-2]=0\n",
    "    #print(param)\n",
    "    sample = getattr(stats,dist).rvs(*param)\n",
    "    return sample"
   ]
  },
  {
   "cell_type": "code",
   "execution_count": 107,
   "id": "7ec1f288-8f24-432d-8c11-c5d31cec6792",
   "metadata": {},
   "outputs": [
    {
     "data": {
      "text/plain": [
       "0.14273439741416566"
      ]
     },
     "execution_count": 107,
     "metadata": {},
     "output_type": "execute_result"
    }
   ],
   "source": [
    "duree_lieu(9,\"Sans\")"
   ]
  },
  {
   "cell_type": "code",
   "execution_count": null,
   "id": "b704ebcd-4878-4084-9a08-3cf685794828",
   "metadata": {},
   "outputs": [],
   "source": []
  }
 ],
 "metadata": {
  "kernelspec": {
   "display_name": "Python 3 (ipykernel)",
   "language": "python",
   "name": "python3"
  },
  "language_info": {
   "codemirror_mode": {
    "name": "ipython",
    "version": 3
   },
   "file_extension": ".py",
   "mimetype": "text/x-python",
   "name": "python",
   "nbconvert_exporter": "python",
   "pygments_lexer": "ipython3",
   "version": "3.11.6"
  }
 },
 "nbformat": 4,
 "nbformat_minor": 5
}
