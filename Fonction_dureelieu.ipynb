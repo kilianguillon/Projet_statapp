{
 "cells": [
  {
   "cell_type": "markdown",
   "id": "24f09351-1db4-4044-b619-f1f61fc8a8f1",
   "metadata": {},
   "source": [
    "# Fonction renvoyant une durée restée dans un lieu selon l'heure et le lieu"
   ]
  },
  {
   "cell_type": "code",
   "execution_count": 117,
   "id": "8835943d-d8d1-4eef-ae69-9e2ef97efc6a",
   "metadata": {},
   "outputs": [
    {
     "name": "stdout",
     "output_type": "stream",
     "text": [
      "Requirement already satisfied: openpyxl in /opt/mamba/lib/python3.11/site-packages (3.1.2)\n",
      "Requirement already satisfied: et-xmlfile in /opt/mamba/lib/python3.11/site-packages (from openpyxl) (1.1.0)\n"
     ]
    }
   ],
   "source": [
    "import pandas as pd\n",
    "import numpy as np\n",
    "import scipy.stats as stats\n",
    "import ast\n",
    "from scipy.stats import invgamma\n",
    "\n",
    "!pip install openpyxl"
   ]
  },
  {
   "cell_type": "code",
   "execution_count": 118,
   "id": "668fb4e6-1c10-4fc4-a7ac-2c16c4d8fae5",
   "metadata": {},
   "outputs": [],
   "source": [
    "#Lire le tableau des lois de durée restée dans un lieu:\n",
    "tableau_duree= pd.read_excel(\"data/lois_duree.xlsx\")"
   ]
  },
  {
   "cell_type": "code",
   "execution_count": 119,
   "id": "383633ae-5ac2-439d-a3fa-281923b3e7cf",
   "metadata": {},
   "outputs": [],
   "source": [
    "tableau_duree=tableau_duree.set_index(\"Unnamed: 0\").rename_axis(\"Plage horaire\")"
   ]
  },
  {
   "cell_type": "code",
   "execution_count": 120,
   "id": "74105fbc-6d23-41f2-a0ea-e5538de8670a",
   "metadata": {},
   "outputs": [],
   "source": [
    "tableau_duree=tableau_duree.map(lambda x: ast.literal_eval(x))\n"
   ]
  },
  {
   "cell_type": "code",
   "execution_count": 121,
   "id": "26ce2127-2bab-4ed0-8a66-36fcafcb4789",
   "metadata": {},
   "outputs": [
    {
     "data": {
      "text/html": [
       "<div>\n",
       "<style scoped>\n",
       "    .dataframe tbody tr th:only-of-type {\n",
       "        vertical-align: middle;\n",
       "    }\n",
       "\n",
       "    .dataframe tbody tr th {\n",
       "        vertical-align: top;\n",
       "    }\n",
       "\n",
       "    .dataframe thead th {\n",
       "        text-align: right;\n",
       "    }\n",
       "</style>\n",
       "<table border=\"1\" class=\"dataframe\">\n",
       "  <thead>\n",
       "    <tr style=\"text-align: right;\">\n",
       "      <th></th>\n",
       "      <th>Parking</th>\n",
       "      <th>Domicile</th>\n",
       "      <th>Sans</th>\n",
       "      <th>Rue</th>\n",
       "      <th>Entreprise</th>\n",
       "    </tr>\n",
       "    <tr>\n",
       "      <th>Plage horaire</th>\n",
       "      <th></th>\n",
       "      <th></th>\n",
       "      <th></th>\n",
       "      <th></th>\n",
       "      <th></th>\n",
       "    </tr>\n",
       "  </thead>\n",
       "  <tbody>\n",
       "    <tr>\n",
       "      <th>Matin</th>\n",
       "      <td>[invgamma, (1.390737571634801, -9.772127964194...</td>\n",
       "      <td>[beta, (2.1872413962120696, -0.005988001327689...</td>\n",
       "      <td>[beta, (1.218287798623423, -5.139663880520553e...</td>\n",
       "      <td>[invgauss, (1.3395802550303704, -1.79049075497...</td>\n",
       "      <td>[loggamma, (200.9195815067319, -27.94843812163...</td>\n",
       "    </tr>\n",
       "    <tr>\n",
       "      <th>Midi</th>\n",
       "      <td>[pareto, (1.4013317752688952, -1.0965230799343...</td>\n",
       "      <td>[beta, (1.450000395484929, -2.2827792178756118...</td>\n",
       "      <td>[beta, (1.2651197309118647, -1.993472379916114...</td>\n",
       "      <td>[chi2, (1.3400808769713695, -5.127648667537803...</td>\n",
       "      <td>[invgamma, (23.59867259214333, -4.103398702392...</td>\n",
       "    </tr>\n",
       "    <tr>\n",
       "      <th>Après-midi</th>\n",
       "      <td>[invgamma, (1.512925644318115, -1.407890880051...</td>\n",
       "      <td>[loggamma, (1.9381474601884947, -3.29351895990...</td>\n",
       "      <td>[beta, (1.2182841162030988, -2.040599168036255...</td>\n",
       "      <td>[chi2, (1.3380657374339826, -2.022860775150514...</td>\n",
       "      <td>[gamma, (1.8472666355219776, -3.09093814367362...</td>\n",
       "    </tr>\n",
       "    <tr>\n",
       "      <th>Soir</th>\n",
       "      <td>[invgauss, (1.5202481297360722, -1.14193992426...</td>\n",
       "      <td>[loggamma, (1.6666258684844566, -4.05430486781...</td>\n",
       "      <td>[beta, (1.4241375370812803, -9.386663096812749...</td>\n",
       "      <td>[beta, (1.6969836415054367, -1.747498811137531...</td>\n",
       "      <td>[beta, (5.436846358958293, -0.3628406844398816...</td>\n",
       "    </tr>\n",
       "  </tbody>\n",
       "</table>\n",
       "</div>"
      ],
      "text/plain": [
       "                                                         Parking  \\\n",
       "Plage horaire                                                      \n",
       "Matin          [invgamma, (1.390737571634801, -9.772127964194...   \n",
       "Midi           [pareto, (1.4013317752688952, -1.0965230799343...   \n",
       "Après-midi     [invgamma, (1.512925644318115, -1.407890880051...   \n",
       "Soir           [invgauss, (1.5202481297360722, -1.14193992426...   \n",
       "\n",
       "                                                        Domicile  \\\n",
       "Plage horaire                                                      \n",
       "Matin          [beta, (2.1872413962120696, -0.005988001327689...   \n",
       "Midi           [beta, (1.450000395484929, -2.2827792178756118...   \n",
       "Après-midi     [loggamma, (1.9381474601884947, -3.29351895990...   \n",
       "Soir           [loggamma, (1.6666258684844566, -4.05430486781...   \n",
       "\n",
       "                                                            Sans  \\\n",
       "Plage horaire                                                      \n",
       "Matin          [beta, (1.218287798623423, -5.139663880520553e...   \n",
       "Midi           [beta, (1.2651197309118647, -1.993472379916114...   \n",
       "Après-midi     [beta, (1.2182841162030988, -2.040599168036255...   \n",
       "Soir           [beta, (1.4241375370812803, -9.386663096812749...   \n",
       "\n",
       "                                                             Rue  \\\n",
       "Plage horaire                                                      \n",
       "Matin          [invgauss, (1.3395802550303704, -1.79049075497...   \n",
       "Midi           [chi2, (1.3400808769713695, -5.127648667537803...   \n",
       "Après-midi     [chi2, (1.3380657374339826, -2.022860775150514...   \n",
       "Soir           [beta, (1.6969836415054367, -1.747498811137531...   \n",
       "\n",
       "                                                      Entreprise  \n",
       "Plage horaire                                                     \n",
       "Matin          [loggamma, (200.9195815067319, -27.94843812163...  \n",
       "Midi           [invgamma, (23.59867259214333, -4.103398702392...  \n",
       "Après-midi     [gamma, (1.8472666355219776, -3.09093814367362...  \n",
       "Soir           [beta, (5.436846358958293, -0.3628406844398816...  "
      ]
     },
     "execution_count": 121,
     "metadata": {},
     "output_type": "execute_result"
    }
   ],
   "source": [
    "tableau_duree.head()"
   ]
  },
  {
   "cell_type": "code",
   "execution_count": 128,
   "id": "73749104-6837-456c-aa0a-0a274eec4dd8",
   "metadata": {},
   "outputs": [],
   "source": [
    "def duree_lieu(heure_arrivee,lieu):\n",
    "    if heure_arrivee<=11:\n",
    "        plage= \"Matin\"\n",
    "    elif heure_arrivee<=14:\n",
    "        plage=\"Midi\"\n",
    "    elif heure_arrivee<=17:\n",
    "        plage= \"Après-midi\"\n",
    "    else:\n",
    "        plage= \"Soir\"\n",
    "    loi=tableau_duree.loc[plage,lieu]\n",
    "    print(loi[0])\n",
    "    sample=0\n",
    "    if loi[0] == 'norm':\n",
    "        # Paramètres de la distribution normale (moyenne, écart-type)\n",
    "        # Générer un seul nombre suivant la distribution normale\n",
    "        sample = np.random.normal(loc=round(loi[1][0],4), scale=round(loi[1][1],4))\n",
    "    elif loi[0]  == 'beta':\n",
    "        # Paramètres de la distribution bêta (a, b)\n",
    "        # Générer un seul nombre suivant la distribution bêta\n",
    "        sample = np.random.beta(a=round(loi[1][0],4), b=round(loi[1][-1],4))\n",
    "    elif loi[0]  == 'gamma':\n",
    "        # Paramètres de la distribution gamma (a, scale)\n",
    "        # Générer un seul nombre suivant la distribution gamma\n",
    "        sample = np.random.gamma(a=round(loi[1][0],4),loc=round(loi[1][1]), scale=round(loi[1][2],4))\n",
    "    elif loi[0] == 'pareto':\n",
    "        # Paramètres de la distribution de Pareto (b, loc, scale)\n",
    "        sample = np.random.pareto(a=loi[1][0], scale=loi[1][2])\n",
    "    elif loi[0] == 't':           \n",
    "        # Paramètres de la distribution t de Student (df, loc, scale)\n",
    "        sample = np.random.standard_t(df=loi[1][0], loc=loi[1][1], scale=loi[1][2])\n",
    "    elif loi[0] == 'lognorm':\n",
    "        # Paramètres de la distribution log-normale (s, loc, scale)\n",
    "        sample = np.random.lognormal(mean=loi[1][1], sigma=loi[1][0])\n",
    "    elif loi[0] == 'invgamma':\n",
    "        # Paramètres de la distribution inverse-gamma (a, loc, scale)\n",
    "         sample = invgamma.rvs(a=loi[1][0], scale=loi[1][-1])\n",
    "    elif loi[0] == 'loggamma':\n",
    "        # Paramètres de la distribution log-gamma (c, loc, scale)\n",
    "        sample = np.random.loggamma(c=loi[1][0], scale=loi[1][1])\n",
    "    elif loi[0] == 'invgauss':\n",
    "         # Paramètres de la distribution inverse-Gaussienne (mu, loc, scale)\n",
    "        sample = np.random.invgauss(mu=loi[1][0], loc=loi[1][1], scale=loi[1][2])\n",
    "    elif loi[0] == 'chi2':\n",
    "        # Paramètres de la distribution de chi carré (df, loc, scale)\n",
    "        sample = np.random.chisquare(df=loi[1][0])\n",
    "    return sample"
   ]
  },
  {
   "cell_type": "code",
   "execution_count": null,
   "id": "7ec1f288-8f24-432d-8c11-c5d31cec6792",
   "metadata": {},
   "outputs": [],
   "source": [
    "duree_lieu(19,\"Domicile\")"
   ]
  },
  {
   "cell_type": "code",
   "execution_count": 125,
   "id": "823c1e79-5fa1-440b-97db-fa0b3180f856",
   "metadata": {},
   "outputs": [
    {
     "data": {
      "text/plain": [
       "['chi2', (1.3380657374339826, -2.022860775150514e-28, 1.8494210080453803)]"
      ]
     },
     "execution_count": 125,
     "metadata": {},
     "output_type": "execute_result"
    }
   ],
   "source": [
    "tableau_duree.loc[\"Après-midi\",\"Rue\"]"
   ]
  },
  {
   "cell_type": "code",
   "execution_count": null,
   "id": "b704ebcd-4878-4084-9a08-3cf685794828",
   "metadata": {},
   "outputs": [],
   "source": []
  }
 ],
 "metadata": {
  "kernelspec": {
   "display_name": "Python 3 (ipykernel)",
   "language": "python",
   "name": "python3"
  },
  "language_info": {
   "codemirror_mode": {
    "name": "ipython",
    "version": 3
   },
   "file_extension": ".py",
   "mimetype": "text/x-python",
   "name": "python",
   "nbconvert_exporter": "python",
   "pygments_lexer": "ipython3",
   "version": "3.11.6"
  }
 },
 "nbformat": 4,
 "nbformat_minor": 5
}
