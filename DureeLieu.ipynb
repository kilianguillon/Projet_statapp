{
 "cells": [
  {
   "cell_type": "markdown",
   "id": "de8adf93-738b-497c-85eb-5812af53fb86",
   "metadata": {},
   "source": [
    "# Durée passée dans chaque lieu selon la plage horaire"
   ]
  },
  {
   "cell_type": "markdown",
   "id": "8de2ef79-7aec-42b2-a17b-e10af4e673bf",
   "metadata": {},
   "source": [
    "## I - Base de données"
   ]
  },
  {
   "cell_type": "code",
   "execution_count": 1,
   "id": "0f6f2c90-9301-4aec-9e46-f8fa4c89d92d",
   "metadata": {},
   "outputs": [
    {
     "name": "stdout",
     "output_type": "stream",
     "text": [
      "Collecting openpyxl\n",
      "  Downloading openpyxl-3.1.2-py2.py3-none-any.whl (249 kB)\n",
      "\u001b[2K     \u001b[90m━━━━━━━━━━━━━━━━━━━━━━━━━━━━━━━━━━━━━━━\u001b[0m \u001b[32m250.0/250.0 kB\u001b[0m \u001b[31m9.3 MB/s\u001b[0m eta \u001b[36m0:00:00\u001b[0m\n",
      "\u001b[?25hCollecting et-xmlfile (from openpyxl)\n",
      "  Downloading et_xmlfile-1.1.0-py3-none-any.whl (4.7 kB)\n",
      "Installing collected packages: et-xmlfile, openpyxl\n",
      "Successfully installed et-xmlfile-1.1.0 openpyxl-3.1.2\n"
     ]
    }
   ],
   "source": [
    "''' Importation des packages nécessaires '''\n",
    "import pandas as pd\n",
    "import numpy as np\n",
    "import matplotlib.pyplot as plt\n",
    "import time\n",
    "import datetime as dt\n",
    "import scipy.stats\n",
    "!pip install openpyxl"
   ]
  },
  {
   "cell_type": "code",
   "execution_count": 14,
   "id": "6b4ab0e5-f735-4bdf-8c0b-2a4fff8ed3ae",
   "metadata": {},
   "outputs": [
    {
     "data": {
      "text/html": [
       "<div>\n",
       "<style scoped>\n",
       "    .dataframe tbody tr th:only-of-type {\n",
       "        vertical-align: middle;\n",
       "    }\n",
       "\n",
       "    .dataframe tbody tr th {\n",
       "        vertical-align: top;\n",
       "    }\n",
       "\n",
       "    .dataframe thead th {\n",
       "        text-align: right;\n",
       "    }\n",
       "</style>\n",
       "<table border=\"1\" class=\"dataframe\">\n",
       "  <thead>\n",
       "    <tr style=\"text-align: right;\">\n",
       "      <th></th>\n",
       "      <th>IDENT_IND</th>\n",
       "      <th>POND_JOUR</th>\n",
       "      <th>Motif</th>\n",
       "      <th>Stationnement</th>\n",
       "      <th>Lieu_Depart</th>\n",
       "      <th>Lieu_Arrivee</th>\n",
       "      <th>TYPE_jour</th>\n",
       "      <th>HEURE_DEPART</th>\n",
       "      <th>HEURE_ARRIVEE</th>\n",
       "      <th>INSTANT_DEPART</th>\n",
       "      <th>INSTANT_ARRIVEE</th>\n",
       "      <th>DISTANCE</th>\n",
       "      <th>Segment_detail</th>\n",
       "      <th>Segment</th>\n",
       "      <th>num_dep_V</th>\n",
       "      <th>nb_dep</th>\n",
       "    </tr>\n",
       "  </thead>\n",
       "  <tbody>\n",
       "    <tr>\n",
       "      <th>0</th>\n",
       "      <td>110000011400001</td>\n",
       "      <td>9891.108772</td>\n",
       "      <td>Se rendre dans une grande surface ou un centre...</td>\n",
       "      <td>Emplacement dans un parking public ou commerci...</td>\n",
       "      <td>Domicile</td>\n",
       "      <td>Parking</td>\n",
       "      <td>mercredi</td>\n",
       "      <td>14.25</td>\n",
       "      <td>14.333333</td>\n",
       "      <td>2029-01-03 14:15:00</td>\n",
       "      <td>2029-01-03 14:20:00</td>\n",
       "      <td>2.20000</td>\n",
       "      <td>Particulier</td>\n",
       "      <td>Particulier</td>\n",
       "      <td>1</td>\n",
       "      <td>2</td>\n",
       "    </tr>\n",
       "    <tr>\n",
       "      <th>1</th>\n",
       "      <td>110000011400001</td>\n",
       "      <td>9891.108772</td>\n",
       "      <td>Retour au domicile</td>\n",
       "      <td>Emplacement privé, gratuit (y compris domicile)</td>\n",
       "      <td>Parking</td>\n",
       "      <td>Domicile</td>\n",
       "      <td>mercredi</td>\n",
       "      <td>14.75</td>\n",
       "      <td>14.833333</td>\n",
       "      <td>2029-01-03 14:45:00</td>\n",
       "      <td>2029-01-03 14:50:00</td>\n",
       "      <td>2.20000</td>\n",
       "      <td>Particulier</td>\n",
       "      <td>Particulier</td>\n",
       "      <td>2</td>\n",
       "      <td>2</td>\n",
       "    </tr>\n",
       "    <tr>\n",
       "      <th>2</th>\n",
       "      <td>110000011500001</td>\n",
       "      <td>5275.295948</td>\n",
       "      <td>Étudier (école, lycée, université)</td>\n",
       "      <td>Emplacement dans un parking public ou commerci...</td>\n",
       "      <td>Domicile</td>\n",
       "      <td>Parking</td>\n",
       "      <td>vendredi</td>\n",
       "      <td>7.75</td>\n",
       "      <td>8.750000</td>\n",
       "      <td>2029-01-05 07:45:00</td>\n",
       "      <td>2029-01-05 08:45:00</td>\n",
       "      <td>28.00000</td>\n",
       "      <td>Particulier</td>\n",
       "      <td>Particulier</td>\n",
       "      <td>1</td>\n",
       "      <td>2</td>\n",
       "    </tr>\n",
       "    <tr>\n",
       "      <th>3</th>\n",
       "      <td>110000011500001</td>\n",
       "      <td>5275.295948</td>\n",
       "      <td>Retour au domicile</td>\n",
       "      <td>Emplacement privé, gratuit (y compris domicile)</td>\n",
       "      <td>Parking</td>\n",
       "      <td>Domicile</td>\n",
       "      <td>vendredi</td>\n",
       "      <td>10.50</td>\n",
       "      <td>11.000000</td>\n",
       "      <td>2029-01-05 10:30:00</td>\n",
       "      <td>2029-01-05 11:00:00</td>\n",
       "      <td>28.00000</td>\n",
       "      <td>Particulier</td>\n",
       "      <td>Particulier</td>\n",
       "      <td>2</td>\n",
       "      <td>2</td>\n",
       "    </tr>\n",
       "    <tr>\n",
       "      <th>4</th>\n",
       "      <td>110000013500002</td>\n",
       "      <td>24058.724023</td>\n",
       "      <td>Travailler dans son lieu fixe et habituel</td>\n",
       "      <td>Emplacement privé, gratuit (y compris domicile)</td>\n",
       "      <td>Domicile</td>\n",
       "      <td>Entreprise</td>\n",
       "      <td>mercredi</td>\n",
       "      <td>15.00</td>\n",
       "      <td>15.250000</td>\n",
       "      <td>2029-01-03 15:00:00</td>\n",
       "      <td>2029-01-03 15:15:00</td>\n",
       "      <td>5.32141</td>\n",
       "      <td>Particulier</td>\n",
       "      <td>Particulier</td>\n",
       "      <td>1</td>\n",
       "      <td>2</td>\n",
       "    </tr>\n",
       "  </tbody>\n",
       "</table>\n",
       "</div>"
      ],
      "text/plain": [
       "         IDENT_IND     POND_JOUR  \\\n",
       "0  110000011400001   9891.108772   \n",
       "1  110000011400001   9891.108772   \n",
       "2  110000011500001   5275.295948   \n",
       "3  110000011500001   5275.295948   \n",
       "4  110000013500002  24058.724023   \n",
       "\n",
       "                                               Motif  \\\n",
       "0  Se rendre dans une grande surface ou un centre...   \n",
       "1                                 Retour au domicile   \n",
       "2                 Étudier (école, lycée, université)   \n",
       "3                                 Retour au domicile   \n",
       "4          Travailler dans son lieu fixe et habituel   \n",
       "\n",
       "                                       Stationnement Lieu_Depart Lieu_Arrivee  \\\n",
       "0  Emplacement dans un parking public ou commerci...    Domicile      Parking   \n",
       "1    Emplacement privé, gratuit (y compris domicile)     Parking     Domicile   \n",
       "2  Emplacement dans un parking public ou commerci...    Domicile      Parking   \n",
       "3    Emplacement privé, gratuit (y compris domicile)     Parking     Domicile   \n",
       "4    Emplacement privé, gratuit (y compris domicile)    Domicile   Entreprise   \n",
       "\n",
       "  TYPE_jour  HEURE_DEPART  HEURE_ARRIVEE      INSTANT_DEPART  \\\n",
       "0  mercredi         14.25      14.333333 2029-01-03 14:15:00   \n",
       "1  mercredi         14.75      14.833333 2029-01-03 14:45:00   \n",
       "2  vendredi          7.75       8.750000 2029-01-05 07:45:00   \n",
       "3  vendredi         10.50      11.000000 2029-01-05 10:30:00   \n",
       "4  mercredi         15.00      15.250000 2029-01-03 15:00:00   \n",
       "\n",
       "      INSTANT_ARRIVEE  DISTANCE Segment_detail      Segment  num_dep_V  nb_dep  \n",
       "0 2029-01-03 14:20:00   2.20000    Particulier  Particulier          1       2  \n",
       "1 2029-01-03 14:50:00   2.20000    Particulier  Particulier          2       2  \n",
       "2 2029-01-05 08:45:00  28.00000    Particulier  Particulier          1       2  \n",
       "3 2029-01-05 11:00:00  28.00000    Particulier  Particulier          2       2  \n",
       "4 2029-01-03 15:15:00   5.32141    Particulier  Particulier          1       2  "
      ]
     },
     "execution_count": 14,
     "metadata": {},
     "output_type": "execute_result"
    }
   ],
   "source": [
    "emp_df=pd.read_excel(\"EMP_deplacements.xlsx\")\n",
    "nb_dep_df=emp_df.groupby(\"IDENT_IND\")[\"num_dep_V\"].max().to_frame().rename(columns={\"num_dep_V\":\"nb_dep\"})\n",
    "emp_df=emp_df.set_index(\"IDENT_IND\")\n",
    "emp_df[\"nb_dep\"]=nb_dep_df[\"nb_dep\"]\n",
    "emp_df=emp_df.reset_index()\n",
    "emp_df.head()"
   ]
  },
  {
   "cell_type": "markdown",
   "id": "5f151ab5-eaa5-4fc1-b8b4-dbd4dfa14a67",
   "metadata": {},
   "source": [
    "### Séparation de la base de données en 4 plages horaires (pour les heures de départ)"
   ]
  },
  {
   "cell_type": "code",
   "execution_count": 15,
   "id": "72ec7484-a1be-49fd-8ce4-051248e3e10e",
   "metadata": {},
   "outputs": [],
   "source": [
    "# Matin (départ entre 00h et 11h) :\n",
    "emp_matin=emp_df[emp_df[\"HEURE_DEPART\"]<=11]\n",
    "# Midi (départ entre 11h et 14h) :\n",
    "emp_midi=emp_df[(emp_df[\"HEURE_DEPART\"]>11)&( emp_df[\"HEURE_DEPART\"]<=14)]\n",
    "# Après-midi (départ entre 14h et 17h) :\n",
    "emp_am=emp_df[(emp_df[\"HEURE_DEPART\"]>14)&( emp_df[\"HEURE_DEPART\"]<=17)]\n",
    "# Soir (départ entre 17h et 00h) :\n",
    "emp_soir=emp_df[(emp_df[\"HEURE_DEPART\"]>17)&( emp_df[\"HEURE_DEPART\"]<=24)]"
   ]
  },
  {
   "cell_type": "markdown",
   "id": "44dcfbd0-9630-4e3c-8c7a-b2d3793b51d0",
   "metadata": {},
   "source": [
    "#### Remarque : Il y a entre 4000 et 7500 déplacements pour chaque plage horaire."
   ]
  },
  {
   "cell_type": "code",
   "execution_count": 26,
   "id": "beb99d1a-4f85-4826-93ee-7995efb5d2d2",
   "metadata": {},
   "outputs": [
    {
     "name": "stderr",
     "output_type": "stream",
     "text": [
      "/tmp/ipykernel_329/1936630487.py:2: SettingWithCopyWarning: \n",
      "A value is trying to be set on a copy of a slice from a DataFrame.\n",
      "Try using .loc[row_indexer,col_indexer] = value instead\n",
      "\n",
      "See the caveats in the documentation: https://pandas.pydata.org/pandas-docs/stable/user_guide/indexing.html#returning-a-view-versus-a-copy\n",
      "  data[\"Durée\"]=0\n",
      "/tmp/ipykernel_329/1936630487.py:3: FutureWarning: Setting an item of incompatible dtype is deprecated and will raise an error in a future version of pandas. Value '[18.         12.91666667 13.75       14.66666667 13.33333333 15.\n",
      " 15.         12.75       15.         16.66666667 12.25       14.93333333\n",
      " 13.66666667 17.33333333 15.25       14.5        12.33333333 13.83333333\n",
      " 13.         16.91666667 17.08333333 12.25       15.75       15.\n",
      " 12.83333333 17.         15.5        15.91666667 16.08333333 15.75\n",
      " 14.25       13.66666667 17.         14.25       16.58333333 13.58333333\n",
      " 16.08333333 18.         16.         17.66666667 13.         17.58333333\n",
      " 16.25       15.66666667 14.5        14.91666667 17.         15.75\n",
      " 13.         15.41666667 16.08333333 16.5        12.83333333 12.83333333\n",
      " 13.58333333 15.83333333 16.         14.83333333 12.25       16.33333333\n",
      " 13.         17.41666667 12.91666667 16.         12.75       16.16666667\n",
      " 13.75       13.66666667 16.5        13.66666667 14.25       14.85\n",
      " 14.9        14.25       14.75       13.83333333 14.75       13.38333333\n",
      " 13.58333333 12.75       16.25       17.         13.91666667 14.66666667\n",
      " 16.         16.08333333 16.33333333 12.83333333 13.         12.58333333\n",
      " 13.5        14.16666667 16.25       17.         16.41666667 14.83333333\n",
      " 14.33333333 14.5        15.83333333 16.         14.41666667 14.33333333\n",
      " 13.95       13.33333333 15.75       17.6        15.25       13.91666667\n",
      " 16.66666667 14.83333333]' has dtype incompatible with int64, please explicitly cast to a compatible dtype first.\n",
      "  data.loc[data[\"nb_dep\"]==1,\"Durée\"]=24-data[\"HEURE_ARRIVEE\"]\n"
     ]
    }
   ],
   "source": [
    "data= emp_matin\n",
    "data[\"Durée\"]=0\n",
    "data.loc[data[\"nb_dep\"]==1,\"Durée\"]=24-data[\"HEURE_ARRIVEE\"]"
   ]
  },
  {
   "cell_type": "code",
   "execution_count": 28,
   "id": "441f5893-d367-480f-ac10-37f19014bd73",
   "metadata": {},
   "outputs": [
    {
     "data": {
      "text/plain": [
       "101      18.000000\n",
       "132      12.916667\n",
       "192      13.750000\n",
       "231      14.666667\n",
       "554      13.333333\n",
       "           ...    \n",
       "21847    17.600000\n",
       "21877    15.250000\n",
       "22207    13.916667\n",
       "22250    16.666667\n",
       "22509    14.833333\n",
       "Name: Durée, Length: 110, dtype: float64"
      ]
     },
     "execution_count": 28,
     "metadata": {},
     "output_type": "execute_result"
    }
   ],
   "source": []
  },
  {
   "cell_type": "code",
   "execution_count": null,
   "id": "934547d0-af58-447a-ad0b-a01938790548",
   "metadata": {},
   "outputs": [],
   "source": []
  }
 ],
 "metadata": {
  "kernelspec": {
   "display_name": "Python 3 (ipykernel)",
   "language": "python",
   "name": "python3"
  },
  "language_info": {
   "codemirror_mode": {
    "name": "ipython",
    "version": 3
   },
   "file_extension": ".py",
   "mimetype": "text/x-python",
   "name": "python",
   "nbconvert_exporter": "python",
   "pygments_lexer": "ipython3",
   "version": "3.11.6"
  }
 },
 "nbformat": 4,
 "nbformat_minor": 5
}
