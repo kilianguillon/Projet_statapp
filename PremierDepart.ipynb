{
  "cells": [
    {
      "cell_type": "markdown",
      "metadata": {
        "id": "91-qdAixjM1Y"
      },
      "source": [
        "Importation des librairies et des données :\n"
      ]
    },
    {
      "cell_type": "code",
      "execution_count": 1,
      "metadata": {
        "id": "EBT6cjzXOj2e"
      },
      "outputs": [],
      "source": [
        "import numpy as np\n",
        "import pandas as pd\n",
        "import matplotlib.pyplot as plt\n",
        "import scipy\n",
        "import scipy.stats\n",
        "import time"
      ]
    },
    {
      "cell_type": "code",
      "execution_count": 2,
      "metadata": {
        "id": "h0GUw5-9OqPw"
      },
      "outputs": [
        {
          "data": {
            "text/html": [
              "<div>\n",
              "<style scoped>\n",
              "    .dataframe tbody tr th:only-of-type {\n",
              "        vertical-align: middle;\n",
              "    }\n",
              "\n",
              "    .dataframe tbody tr th {\n",
              "        vertical-align: top;\n",
              "    }\n",
              "\n",
              "    .dataframe thead th {\n",
              "        text-align: right;\n",
              "    }\n",
              "</style>\n",
              "<table border=\"1\" class=\"dataframe\">\n",
              "  <thead>\n",
              "    <tr style=\"text-align: right;\">\n",
              "      <th></th>\n",
              "      <th>IDENT_IND</th>\n",
              "      <th>IDENT_MEN</th>\n",
              "      <th>MVEH</th>\n",
              "      <th>POND_JOUR</th>\n",
              "      <th>MOTPREC</th>\n",
              "      <th>MMOTIFDES</th>\n",
              "      <th>MSTATION</th>\n",
              "      <th>Motif</th>\n",
              "      <th>Stationnement</th>\n",
              "      <th>Lieu_Depart</th>\n",
              "      <th>...</th>\n",
              "      <th>MVEHEXT</th>\n",
              "      <th>INSTANT_DEPART</th>\n",
              "      <th>INSTANT_ARRIVEE</th>\n",
              "      <th>DISTANCE</th>\n",
              "      <th>KVAQUIV</th>\n",
              "      <th>TRAVAILLE</th>\n",
              "      <th>Segment_detail</th>\n",
              "      <th>IDENT_V</th>\n",
              "      <th>Segment</th>\n",
              "      <th>num_dep_V</th>\n",
              "    </tr>\n",
              "  </thead>\n",
              "  <tbody>\n",
              "    <tr>\n",
              "      <th>0</th>\n",
              "      <td>110000011400001</td>\n",
              "      <td>1100000114000</td>\n",
              "      <td>1</td>\n",
              "      <td>9891.108772</td>\n",
              "      <td>1.1</td>\n",
              "      <td>2.1</td>\n",
              "      <td>5</td>\n",
              "      <td>Se rendre dans une grande surface ou un centre...</td>\n",
              "      <td>Emplacement dans un parking public ou commerci...</td>\n",
              "      <td>Domicile</td>\n",
              "      <td>...</td>\n",
              "      <td>NaN</td>\n",
              "      <td>2029-01-03 14:15:00</td>\n",
              "      <td>2029-01-03 14:20:00</td>\n",
              "      <td>2.200000</td>\n",
              "      <td>1.0</td>\n",
              "      <td>2</td>\n",
              "      <td>Particulier</td>\n",
              "      <td>110000011400001_1_Particulier</td>\n",
              "      <td>Particulier</td>\n",
              "      <td>1</td>\n",
              "    </tr>\n",
              "    <tr>\n",
              "      <th>1</th>\n",
              "      <td>110000011400001</td>\n",
              "      <td>1100000114000</td>\n",
              "      <td>1</td>\n",
              "      <td>9891.108772</td>\n",
              "      <td>2.1</td>\n",
              "      <td>1.1</td>\n",
              "      <td>4</td>\n",
              "      <td>Retour au domicile</td>\n",
              "      <td>Emplacement privé, gratuit (y compris domicile)</td>\n",
              "      <td>Parking</td>\n",
              "      <td>...</td>\n",
              "      <td>NaN</td>\n",
              "      <td>2029-01-03 14:45:00</td>\n",
              "      <td>2029-01-03 14:50:00</td>\n",
              "      <td>2.200000</td>\n",
              "      <td>1.0</td>\n",
              "      <td>2</td>\n",
              "      <td>Particulier</td>\n",
              "      <td>110000011400001_1_Particulier</td>\n",
              "      <td>Particulier</td>\n",
              "      <td>2</td>\n",
              "    </tr>\n",
              "    <tr>\n",
              "      <th>2</th>\n",
              "      <td>110000011500001</td>\n",
              "      <td>1100000115000</td>\n",
              "      <td>2</td>\n",
              "      <td>5275.295948</td>\n",
              "      <td>1.1</td>\n",
              "      <td>1.4</td>\n",
              "      <td>6</td>\n",
              "      <td>Étudier (école, lycée, université)</td>\n",
              "      <td>Emplacement dans un parking public ou commerci...</td>\n",
              "      <td>Domicile</td>\n",
              "      <td>...</td>\n",
              "      <td>NaN</td>\n",
              "      <td>2029-01-05 07:45:00</td>\n",
              "      <td>2029-01-05 08:45:00</td>\n",
              "      <td>28.000000</td>\n",
              "      <td>1.0</td>\n",
              "      <td>2</td>\n",
              "      <td>Particulier</td>\n",
              "      <td>110000011500001_2_Particulier</td>\n",
              "      <td>Particulier</td>\n",
              "      <td>1</td>\n",
              "    </tr>\n",
              "    <tr>\n",
              "      <th>3</th>\n",
              "      <td>110000011500001</td>\n",
              "      <td>1100000115000</td>\n",
              "      <td>2</td>\n",
              "      <td>5275.295948</td>\n",
              "      <td>1.4</td>\n",
              "      <td>1.1</td>\n",
              "      <td>4</td>\n",
              "      <td>Retour au domicile</td>\n",
              "      <td>Emplacement privé, gratuit (y compris domicile)</td>\n",
              "      <td>Parking</td>\n",
              "      <td>...</td>\n",
              "      <td>NaN</td>\n",
              "      <td>2029-01-05 10:30:00</td>\n",
              "      <td>2029-01-05 11:00:00</td>\n",
              "      <td>28.000000</td>\n",
              "      <td>1.0</td>\n",
              "      <td>2</td>\n",
              "      <td>Particulier</td>\n",
              "      <td>110000011500001_2_Particulier</td>\n",
              "      <td>Particulier</td>\n",
              "      <td>2</td>\n",
              "    </tr>\n",
              "    <tr>\n",
              "      <th>4</th>\n",
              "      <td>110000013500002</td>\n",
              "      <td>1100000135000</td>\n",
              "      <td>1</td>\n",
              "      <td>24058.724023</td>\n",
              "      <td>1.1</td>\n",
              "      <td>9.1</td>\n",
              "      <td>4</td>\n",
              "      <td>Travailler dans son lieu fixe et habituel</td>\n",
              "      <td>Emplacement privé, gratuit (y compris domicile)</td>\n",
              "      <td>Domicile</td>\n",
              "      <td>...</td>\n",
              "      <td>NaN</td>\n",
              "      <td>2029-01-03 15:00:00</td>\n",
              "      <td>2029-01-03 15:15:00</td>\n",
              "      <td>5.321410</td>\n",
              "      <td>1.0</td>\n",
              "      <td>1</td>\n",
              "      <td>Particulier</td>\n",
              "      <td>110000013500002_1_Particulier</td>\n",
              "      <td>Particulier</td>\n",
              "      <td>1</td>\n",
              "    </tr>\n",
              "    <tr>\n",
              "      <th>...</th>\n",
              "      <td>...</td>\n",
              "      <td>...</td>\n",
              "      <td>...</td>\n",
              "      <td>...</td>\n",
              "      <td>...</td>\n",
              "      <td>...</td>\n",
              "      <td>...</td>\n",
              "      <td>...</td>\n",
              "      <td>...</td>\n",
              "      <td>...</td>\n",
              "      <td>...</td>\n",
              "      <td>...</td>\n",
              "      <td>...</td>\n",
              "      <td>...</td>\n",
              "      <td>...</td>\n",
              "      <td>...</td>\n",
              "      <td>...</td>\n",
              "      <td>...</td>\n",
              "      <td>...</td>\n",
              "      <td>...</td>\n",
              "      <td>...</td>\n",
              "    </tr>\n",
              "    <tr>\n",
              "      <th>22521</th>\n",
              "      <td>940000044100001</td>\n",
              "      <td>9400000441000</td>\n",
              "      <td>1</td>\n",
              "      <td>15761.857518</td>\n",
              "      <td>3.1</td>\n",
              "      <td>2.1</td>\n",
              "      <td>5</td>\n",
              "      <td>Se rendre dans une grande surface ou un centre...</td>\n",
              "      <td>Emplacement dans un parking public ou commerci...</td>\n",
              "      <td>Rue</td>\n",
              "      <td>...</td>\n",
              "      <td>NaN</td>\n",
              "      <td>2029-01-03 10:30:00</td>\n",
              "      <td>2029-01-03 10:35:00</td>\n",
              "      <td>1.000000</td>\n",
              "      <td>1.0</td>\n",
              "      <td>2</td>\n",
              "      <td>Particulier</td>\n",
              "      <td>940000044100001_1_Particulier</td>\n",
              "      <td>Particulier</td>\n",
              "      <td>2</td>\n",
              "    </tr>\n",
              "    <tr>\n",
              "      <th>22522</th>\n",
              "      <td>940000044100001</td>\n",
              "      <td>9400000441000</td>\n",
              "      <td>1</td>\n",
              "      <td>15761.857518</td>\n",
              "      <td>2.1</td>\n",
              "      <td>4.1</td>\n",
              "      <td>3</td>\n",
              "      <td>Démarche administrative, recherche d'informations</td>\n",
              "      <td>Stationnement sur la voie publique, payant</td>\n",
              "      <td>Parking</td>\n",
              "      <td>...</td>\n",
              "      <td>NaN</td>\n",
              "      <td>2029-01-03 11:30:00</td>\n",
              "      <td>2029-01-03 11:35:00</td>\n",
              "      <td>1.000000</td>\n",
              "      <td>1.0</td>\n",
              "      <td>2</td>\n",
              "      <td>Particulier</td>\n",
              "      <td>940000044100001_1_Particulier</td>\n",
              "      <td>Particulier</td>\n",
              "      <td>3</td>\n",
              "    </tr>\n",
              "    <tr>\n",
              "      <th>22523</th>\n",
              "      <td>940000044100001</td>\n",
              "      <td>9400000441000</td>\n",
              "      <td>1</td>\n",
              "      <td>15761.857518</td>\n",
              "      <td>4.1</td>\n",
              "      <td>1.1</td>\n",
              "      <td>1</td>\n",
              "      <td>Retour au domicile</td>\n",
              "      <td>Stationnement sur la voie publique, gratuit sa...</td>\n",
              "      <td>Rue</td>\n",
              "      <td>...</td>\n",
              "      <td>NaN</td>\n",
              "      <td>2029-01-03 12:00:00</td>\n",
              "      <td>2029-01-03 13:00:00</td>\n",
              "      <td>36.476190</td>\n",
              "      <td>1.0</td>\n",
              "      <td>2</td>\n",
              "      <td>Particulier</td>\n",
              "      <td>940000044100001_1_Particulier</td>\n",
              "      <td>Particulier</td>\n",
              "      <td>4</td>\n",
              "    </tr>\n",
              "    <tr>\n",
              "      <th>22524</th>\n",
              "      <td>940000052100001</td>\n",
              "      <td>9400000521000</td>\n",
              "      <td>2</td>\n",
              "      <td>14068.334434</td>\n",
              "      <td>1.1</td>\n",
              "      <td>9.1</td>\n",
              "      <td>4</td>\n",
              "      <td>Travailler dans son lieu fixe et habituel</td>\n",
              "      <td>Emplacement privé, gratuit (y compris domicile)</td>\n",
              "      <td>Rue</td>\n",
              "      <td>...</td>\n",
              "      <td>NaN</td>\n",
              "      <td>2029-01-03 06:00:00</td>\n",
              "      <td>2029-01-03 06:45:00</td>\n",
              "      <td>21.661727</td>\n",
              "      <td>1.0</td>\n",
              "      <td>1</td>\n",
              "      <td>Particulier</td>\n",
              "      <td>940000052100001_2_Particulier</td>\n",
              "      <td>Particulier</td>\n",
              "      <td>1</td>\n",
              "    </tr>\n",
              "    <tr>\n",
              "      <th>22525</th>\n",
              "      <td>940000052100001</td>\n",
              "      <td>9400000521000</td>\n",
              "      <td>2</td>\n",
              "      <td>14068.334434</td>\n",
              "      <td>9.1</td>\n",
              "      <td>1.1</td>\n",
              "      <td>1</td>\n",
              "      <td>Retour au domicile</td>\n",
              "      <td>Stationnement sur la voie publique, gratuit sa...</td>\n",
              "      <td>Entreprise</td>\n",
              "      <td>...</td>\n",
              "      <td>NaN</td>\n",
              "      <td>2029-01-03 17:00:00</td>\n",
              "      <td>2029-01-03 17:45:00</td>\n",
              "      <td>21.661727</td>\n",
              "      <td>1.0</td>\n",
              "      <td>1</td>\n",
              "      <td>Particulier</td>\n",
              "      <td>940000052100001_2_Particulier</td>\n",
              "      <td>Particulier</td>\n",
              "      <td>2</td>\n",
              "    </tr>\n",
              "  </tbody>\n",
              "</table>\n",
              "<p>22526 rows × 24 columns</p>\n",
              "</div>"
            ],
            "text/plain": [
              "             IDENT_IND      IDENT_MEN  MVEH     POND_JOUR MOTPREC MMOTIFDES  \\\n",
              "0      110000011400001  1100000114000     1   9891.108772     1.1       2.1   \n",
              "1      110000011400001  1100000114000     1   9891.108772     2.1       1.1   \n",
              "2      110000011500001  1100000115000     2   5275.295948     1.1       1.4   \n",
              "3      110000011500001  1100000115000     2   5275.295948     1.4       1.1   \n",
              "4      110000013500002  1100000135000     1  24058.724023     1.1       9.1   \n",
              "...                ...            ...   ...           ...     ...       ...   \n",
              "22521  940000044100001  9400000441000     1  15761.857518     3.1       2.1   \n",
              "22522  940000044100001  9400000441000     1  15761.857518     2.1       4.1   \n",
              "22523  940000044100001  9400000441000     1  15761.857518     4.1       1.1   \n",
              "22524  940000052100001  9400000521000     2  14068.334434     1.1       9.1   \n",
              "22525  940000052100001  9400000521000     2  14068.334434     9.1       1.1   \n",
              "\n",
              "      MSTATION                                              Motif  \\\n",
              "0            5  Se rendre dans une grande surface ou un centre...   \n",
              "1            4                                 Retour au domicile   \n",
              "2            6                 Étudier (école, lycée, université)   \n",
              "3            4                                 Retour au domicile   \n",
              "4            4          Travailler dans son lieu fixe et habituel   \n",
              "...        ...                                                ...   \n",
              "22521        5  Se rendre dans une grande surface ou un centre...   \n",
              "22522        3  Démarche administrative, recherche d'informations   \n",
              "22523        1                                 Retour au domicile   \n",
              "22524        4          Travailler dans son lieu fixe et habituel   \n",
              "22525        1                                 Retour au domicile   \n",
              "\n",
              "                                           Stationnement Lieu_Depart  ...  \\\n",
              "0      Emplacement dans un parking public ou commerci...    Domicile  ...   \n",
              "1        Emplacement privé, gratuit (y compris domicile)     Parking  ...   \n",
              "2      Emplacement dans un parking public ou commerci...    Domicile  ...   \n",
              "3        Emplacement privé, gratuit (y compris domicile)     Parking  ...   \n",
              "4        Emplacement privé, gratuit (y compris domicile)    Domicile  ...   \n",
              "...                                                  ...         ...  ...   \n",
              "22521  Emplacement dans un parking public ou commerci...         Rue  ...   \n",
              "22522         Stationnement sur la voie publique, payant     Parking  ...   \n",
              "22523  Stationnement sur la voie publique, gratuit sa...         Rue  ...   \n",
              "22524    Emplacement privé, gratuit (y compris domicile)         Rue  ...   \n",
              "22525  Stationnement sur la voie publique, gratuit sa...  Entreprise  ...   \n",
              "\n",
              "      MVEHEXT       INSTANT_DEPART      INSTANT_ARRIVEE   DISTANCE  KVAQUIV  \\\n",
              "0         NaN  2029-01-03 14:15:00  2029-01-03 14:20:00   2.200000      1.0   \n",
              "1         NaN  2029-01-03 14:45:00  2029-01-03 14:50:00   2.200000      1.0   \n",
              "2         NaN  2029-01-05 07:45:00  2029-01-05 08:45:00  28.000000      1.0   \n",
              "3         NaN  2029-01-05 10:30:00  2029-01-05 11:00:00  28.000000      1.0   \n",
              "4         NaN  2029-01-03 15:00:00  2029-01-03 15:15:00   5.321410      1.0   \n",
              "...       ...                  ...                  ...        ...      ...   \n",
              "22521     NaN  2029-01-03 10:30:00  2029-01-03 10:35:00   1.000000      1.0   \n",
              "22522     NaN  2029-01-03 11:30:00  2029-01-03 11:35:00   1.000000      1.0   \n",
              "22523     NaN  2029-01-03 12:00:00  2029-01-03 13:00:00  36.476190      1.0   \n",
              "22524     NaN  2029-01-03 06:00:00  2029-01-03 06:45:00  21.661727      1.0   \n",
              "22525     NaN  2029-01-03 17:00:00  2029-01-03 17:45:00  21.661727      1.0   \n",
              "\n",
              "      TRAVAILLE Segment_detail                        IDENT_V      Segment  \\\n",
              "0             2    Particulier  110000011400001_1_Particulier  Particulier   \n",
              "1             2    Particulier  110000011400001_1_Particulier  Particulier   \n",
              "2             2    Particulier  110000011500001_2_Particulier  Particulier   \n",
              "3             2    Particulier  110000011500001_2_Particulier  Particulier   \n",
              "4             1    Particulier  110000013500002_1_Particulier  Particulier   \n",
              "...         ...            ...                            ...          ...   \n",
              "22521         2    Particulier  940000044100001_1_Particulier  Particulier   \n",
              "22522         2    Particulier  940000044100001_1_Particulier  Particulier   \n",
              "22523         2    Particulier  940000044100001_1_Particulier  Particulier   \n",
              "22524         1    Particulier  940000052100001_2_Particulier  Particulier   \n",
              "22525         1    Particulier  940000052100001_2_Particulier  Particulier   \n",
              "\n",
              "       num_dep_V  \n",
              "0              1  \n",
              "1              2  \n",
              "2              1  \n",
              "3              2  \n",
              "4              1  \n",
              "...          ...  \n",
              "22521          2  \n",
              "22522          3  \n",
              "22523          4  \n",
              "22524          1  \n",
              "22525          2  \n",
              "\n",
              "[22526 rows x 24 columns]"
            ]
          },
          "metadata": {},
          "output_type": "display_data"
        }
      ],
      "source": [
        "# Decimal = ',' hyper important pour que python comprenne les nombres\n",
        "data = pd.read_csv('/home/onyxia/Projet_statapp/data/EMP_deplacements_Charme.csv', delimiter=';', decimal=',', encoding = \"ISO-8859-1\")\n",
        "display(data)\n"
      ]
    },
    {
      "cell_type": "markdown",
      "metadata": {
        "id": "6WC9IXBJjZmp"
      },
      "source": [
        "Sélection des variables \"heure de premier départ\" pour chaque individu :\n"
      ]
    },
    {
      "cell_type": "code",
      "execution_count": 3,
      "metadata": {
        "id": "M9BVCOBGUZo8"
      },
      "outputs": [],
      "source": [
        "premiers_departs = data.groupby('IDENT_MEN')['HEURE_DEPART'].min()"
      ]
    },
    {
      "cell_type": "markdown",
      "metadata": {
        "id": "7kDE2IDij-nX"
      },
      "source": [
        "Un premier aperçu de ces données :"
      ]
    },
    {
      "cell_type": "code",
      "execution_count": 4,
      "metadata": {
        "colab": {
          "base_uri": "https://localhost:8080/",
          "height": 699
        },
        "id": "kchA7y6sj5HO",
        "outputId": "2c40fc3b-20fd-43f3-be12-31d02561af49"
      },
      "outputs": [
        {
          "data": {
            "image/png": "[encoded data removed]",
            "text/plain": [
              "<Figure size 1200x800 with 1 Axes>"
            ]
          },
          "metadata": {},
          "output_type": "display_data"
        }
      ],
      "source": [
        "y, x = np.histogram(premiers_departs, bins=40, density=True)\n",
        "x = (x + np.roll(x, -1))[:-1] / 2.0\n",
        "plt.figure(figsize=(12,8))\n",
        "plt.hist(premiers_departs, bins=40, density=True)\n",
        "plt.title(\"Heures de premier départ\")\n",
        "plt.show()"
      ]
    },
    {
      "cell_type": "markdown",
      "metadata": {
        "id": "5Ekz9yhKk40v"
      },
      "source": [
        "Programme essayant de trouver la meilleure loi de modélisation :"
      ]
    },
    {
      "cell_type": "code",
      "execution_count": 5,
      "metadata": {
        "colab": {
          "base_uri": "https://localhost:8080/",
          "height": 812
        },
        "id": "ma66m6kSczBf",
        "outputId": "76f5b839-08d7-4d8c-b075-b47b771bf7b4"
      },
      "outputs": [
        {
          "name": "stderr",
          "output_type": "stream",
          "text": [
            "/opt/mamba/lib/python3.10/site-packages/scipy/stats/_continuous_distns.py:719: RuntimeWarning: invalid value encountered in sqrt\n",
            "  sk = 2*(b-a)*np.sqrt(a + b + 1) / (a + b + 2) / np.sqrt(a*b)\n"
          ]
        },
        {
          "data": {
            "image/png": "[encoded data removed]",
            "text/plain": [
              "<Figure size 1200x800 with 1 Axes>"
            ]
          },
          "metadata": {},
          "output_type": "display_data"
        },
        {
          "name": "stdout",
          "output_type": "stream",
          "text": [
            "Selected Model :  alpha\n",
            "Loc. param. :  -8.089564444860649\n",
            "Scale param. :  104.99903407886063\n",
            "Other arguments :  (5.869658573617832,)\n",
            "SSE :  0.028327808740439588\n"
          ]
        }
      ],
      "source": [
        "dist_names = ['norm', 'beta','gamma', 'pareto', 't', 'lognorm', 'invgamma', 'invgauss',  'loggamma', 'alpha', 'chi', 'chi2']\n",
        "sse = np.inf\n",
        "\n",
        "# Pour chaque distribution\n",
        "for name in dist_names:\n",
        "\n",
        "  # Modéliser\n",
        "  dist = getattr(scipy.stats, name)\n",
        "  param = dist.fit(premiers_departs)\n",
        "\n",
        "  # Paramètres\n",
        "  loc = param[-2]\n",
        "  scale = param[-1]\n",
        "  arg = param[:-2]\n",
        "\n",
        "  # PDF\n",
        "  pdf = dist.pdf(x, *arg, loc=loc, scale=scale)\n",
        "  # SSE\n",
        "  model_sse = np.sum((y - pdf)**2)\n",
        "\n",
        "  # Si le SSE est diminué, enregistrer la loi\n",
        "  if model_sse < sse :\n",
        "    best_pdf = pdf\n",
        "    sse = model_sse\n",
        "    best_loc = loc\n",
        "    best_scale = scale\n",
        "    best_arg = arg\n",
        "    best_name = name\n",
        "\n",
        "plt.figure(figsize=(12,8))\n",
        "plt.hist(premiers_departs, bins=40, density=True, label=\"Données\")\n",
        "plt.plot(x, best_pdf, label=\"Loi \" + best_name, linewidth=3)\n",
        "plt.legend(loc='upper right')\n",
        "plt.show()\n",
        "\n",
        "# Détails sur la loi sélectionnée\n",
        "print(\"Selected Model : \", best_name)\n",
        "print(\"Loc. param. : \", best_loc)\n",
        "print(\"Scale param. : \", best_scale)\n",
        "print(\"Other arguments : \", best_arg)\n",
        "print(\"SSE : \", sse)"
      ]
    },
    {
      "cell_type": "markdown",
      "metadata": {
        "id": "9AwYo_bDjlMm"
      },
      "source": [
        "# Deuxième étape :\n",
        "Modéliser deux lois pour être plus précis : l'une pour les premiers départ ayant lieu le matin, l'autre pour ceux de l'apres-midi."
      ]
    },
    {
      "cell_type": "code",
      "execution_count": 6,
      "metadata": {
        "id": "hpOuhXjag8r3"
      },
      "outputs": [],
      "source": [
        "prem_dep_matin = premiers_departs[premiers_departs < 12]\n",
        "prem_dep_aprem = premiers_departs[premiers_departs >= 12]"
      ]
    },
    {
      "cell_type": "markdown",
      "metadata": {
        "id": "uYSVY0kcm6L5"
      },
      "source": [
        "# Le matin :"
      ]
    },
    {
      "cell_type": "code",
      "execution_count": 7,
      "metadata": {
        "colab": {
          "base_uri": "https://localhost:8080/",
          "height": 761
        },
        "id": "98QphWZBgRMS",
        "outputId": "371b00d9-092f-4f42-9f26-6e5f2222a435"
      },
      "outputs": [
        {
          "data": {
            "image/png": "[encoded data removed]",
            "text/plain": [
              "<Figure size 1200x800 with 1 Axes>"
            ]
          },
          "metadata": {},
          "output_type": "display_data"
        },
        {
          "name": "stdout",
          "output_type": "stream",
          "text": [
            "Selected Model :  lognorm\n",
            "Loc. param. :  -262143.49999999988\n",
            "Scale param. :  262152.11223338696\n",
            "Other arguments :  (6.204792368989301e-06,)\n",
            "SSE :  0.20977080169259038\n"
          ]
        }
      ],
      "source": [
        "y, x = np.histogram(prem_dep_matin, bins=40, density=True)\n",
        "x = (x + np.roll(x, -1))[:-1] / 2.0\n",
        "#plt.figure(figsize=(12,8))\n",
        "#plt.hist(prem_dep_matin, bins=40, density=True)\n",
        "#plt.title(\"Heures de premier départ\")\n",
        "#plt.show()\n",
        "\n",
        "dist_names = ['norm', 'beta','gamma', 'pareto', 't', 'lognorm', 'invgamma', 'invgauss',  'loggamma', 'alpha', 'chi', 'chi2']\n",
        "sse = np.inf\n",
        "\n",
        "# Pour chaque distribution\n",
        "for name in dist_names:\n",
        "\n",
        "  # Modéliser\n",
        "  dist = getattr(scipy.stats, name)\n",
        "  param = dist.fit(prem_dep_matin)\n",
        "\n",
        "  # Paramètres\n",
        "  loc = param[-2]\n",
        "  scale = param[-1]\n",
        "  arg = param[:-2]\n",
        "\n",
        "  # PDF\n",
        "  pdf = dist.pdf(x, *arg, loc=loc, scale=scale)\n",
        "  # SSE\n",
        "  model_sse = np.sum((y - pdf)**2)\n",
        "\n",
        "  # Si le SSE est diminué, enregistrer la loi\n",
        "  if model_sse < sse :\n",
        "    best_pdf = pdf\n",
        "    sse = model_sse\n",
        "    best_loc = loc\n",
        "    best_scale = scale\n",
        "    best_arg = arg\n",
        "    best_name = name\n",
        "\n",
        "plt.figure(figsize=(12,8))\n",
        "plt.hist(prem_dep_matin, bins=40, density=True, label=\"Données\")\n",
        "plt.plot(x, best_pdf, label=\"Loi \" + best_name, linewidth=3)\n",
        "plt.legend(loc='upper right')\n",
        "plt.show()\n",
        "\n",
        "# Détails sur la loi sélectionnée\n",
        "print(\"Selected Model : \", best_name)\n",
        "print(\"Loc. param. : \", best_loc)\n",
        "print(\"Scale param. : \", best_scale)\n",
        "print(\"Other arguments : \", best_arg)\n",
        "print(\"SSE : \", sse)"
      ]
    },
    {
      "cell_type": "markdown",
      "metadata": {
        "id": "HNFXLGc1nUl1"
      },
      "source": [
        "# L'aprem :"
      ]
    },
    {
      "cell_type": "code",
      "execution_count": 8,
      "metadata": {
        "colab": {
          "base_uri": "https://localhost:8080/",
          "height": 761
        },
        "id": "MZOqiPNSnWbx",
        "outputId": "add0775e-7cc8-4b7d-d533-430cb8945713"
      },
      "outputs": [
        {
          "data": {
            "image/png": "[encoded data removed]",
            "text/plain": [
              "<Figure size 1200x800 with 1 Axes>"
            ]
          },
          "metadata": {},
          "output_type": "display_data"
        },
        {
          "name": "stdout",
          "output_type": "stream",
          "text": [
            "Selected Model :  alpha\n",
            "Loc. param. :  3.6405927292794127\n",
            "Scale param. :  64.65387998614574\n",
            "Other arguments :  (5.7840182736786,)\n",
            "SSE :  0.37114359318535406\n"
          ]
        }
      ],
      "source": [
        "y, x = np.histogram(prem_dep_aprem, bins=40, density=True)\n",
        "x = (x + np.roll(x, -1))[:-1] / 2.0\n",
        "#plt.figure(figsize=(12,8))\n",
        "#plt.hist(prem_dep_aprem, bins=40, density=True)\n",
        "#plt.title(\"Heures de premier départ\")\n",
        "#plt.show()\n",
        "\n",
        "dist_names = ['norm', 'beta','gamma', 'pareto', 't', 'lognorm', 'invgamma', 'invgauss',  'loggamma', 'alpha', 'chi', 'chi2']\n",
        "sse = np.inf\n",
        "\n",
        "# Pour chaque distribution\n",
        "for name in dist_names:\n",
        "\n",
        "  # Modéliser\n",
        "  dist = getattr(scipy.stats, name)\n",
        "  param = dist.fit(prem_dep_aprem)\n",
        "\n",
        "  # Paramètres\n",
        "  loc = param[-2]\n",
        "  scale = param[-1]\n",
        "  arg = param[:-2]\n",
        "\n",
        "  # PDF\n",
        "  pdf = dist.pdf(x, *arg, loc=loc, scale=scale)\n",
        "  # SSE\n",
        "  model_sse = np.sum((y - pdf)**2)\n",
        "\n",
        "  # Si le SSE est diminué, enregistrer la loi\n",
        "  if model_sse < sse :\n",
        "    best_pdf = pdf\n",
        "    sse = model_sse\n",
        "    best_loc = loc\n",
        "    best_scale = scale\n",
        "    best_arg = arg\n",
        "    best_name = name\n",
        "\n",
        "plt.figure(figsize=(12,8))\n",
        "plt.hist(prem_dep_aprem, bins=40, density=True, label=\"Données\")\n",
        "plt.plot(x, best_pdf, label=\"Loi \" + best_name, linewidth=3)\n",
        "plt.legend(loc='upper right')\n",
        "plt.show()\n",
        "\n",
        "# Détails sur la loi sélectionnée\n",
        "print(\"Selected Model : \", best_name)\n",
        "print(\"Loc. param. : \", best_loc)\n",
        "print(\"Scale param. : \", best_scale)\n",
        "print(\"Other arguments : \", best_arg)\n",
        "print(\"SSE : \", sse)"
      ]
    },
    {
      "cell_type": "markdown",
      "metadata": {
        "id": "ouaxiVFRnyuL"
      },
      "source": [
        "**Note : 73,3% des premiers départs ont lieu le matin.**"
      ]
    }
  ],
  "metadata": {
    "accelerator": "GPU",
    "colab": {
      "gpuType": "T4",
      "provenance": []
    },
    "kernelspec": {
      "display_name": "Python 3",
      "name": "python3"
    },
    "language_info": {
      "codemirror_mode": {
        "name": "ipython",
        "version": 3
      },
      "file_extension": ".py",
      "mimetype": "text/x-python",
      "name": "python",
      "nbconvert_exporter": "python",
      "pygments_lexer": "ipython3",
      "version": "3.10.13"
    }
  },
  "nbformat": 4,
  "nbformat_minor": 0
}
